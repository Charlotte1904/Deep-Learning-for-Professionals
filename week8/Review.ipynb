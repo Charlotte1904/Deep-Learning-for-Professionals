{
 "cells": [
  {
   "cell_type": "markdown",
   "metadata": {},
   "source": [
    "## What we covered\n",
    "\n",
    "Really you only learned 5 major things:\n",
    "\n",
    "1. MLP - The multilayer perceptron - the base learner encoded in Keras as Dense()\n",
    "2. The concept of layers including backpropagation\n",
    "3. Basic ideas of optimization\n",
    "4. CNN - The convolutional network - encoded in Keras as Conv Layers\n",
    "5. RNN - The recurrent network - encoded in Keras as RNN Layers\n",
    "\n",
    "Most of your learning should have taken place using the lab modules. We learned several ideas behind each of these and we'll cover over them again during this class. \n",
    "\n",
    "What is there left to learn? Most of what you need to do now is **practice**. You should begin by reading the papers cited in this class and their citations. Follow on by practicing building architectures using the debugging tools provided in this class and as many keras examples as needed. After that, pick up tensorflow, and keep reading. Once you are prepared to pick up tensorflow and can build your own architectures with some struggle, you're ready to do full-scale jobs in deep learning. \n",
    "\n",
    "## [Neural Network Fundamentals](../week1/d2/lecture_notes/lecture_w1_d2_nn_fundamentals_2.ipynb)\n",
    "\n",
    "## [Backpropagation](../week2/d1/lab_exercises/lab_backpropagation1d.ipynb)\n",
    "\n",
    "## [Basic Layers](../week2/d2/lab_exercises/lab_layers_solutions.ipynb)\n",
    "\n",
    "## [CNNs](../week3/d2/lecture_notes/w3_d2_Intro_to_CNN.ipynb)\n",
    "\n",
    "## [Optimization](../week4/d2/lecture_notes/w4_d2_Optimization_I.ipynb)\n",
    "\n",
    "## [RNNs](../week5/d1/lecture_notes/w5_d1_intro_to_rnn.ipynb)\n",
    "\n",
    "Note that I did not include a Convolutional Layers backpropagation exercise. This is a [good place to start](http://www.jefkine.com/general/2016/09/05/backpropagation-in-convolutional-neural-networks/) if this interests you. \n",
    "\n",
    "## [AdvancedNeurons](../week5/d2/lecture_notes/w5_d2_LSTM.ipynb)\n",
    "\n",
    "## [Recurrent Layers](../week5/d1/lab_exercises/lab_rnn_layers_solutions.ipynb)\n",
    "\n",
    "## [text generation](../week5/d2/lab_exercises/lstm_basic/lstm_text_generation.py)\n",
    "\n",
    "## [seq2seq models](../week5/d2/lab_exercises/lstm_advanced/lab_seq2seq_solutions.ipynb)\n"
   ]
  },
  {
   "cell_type": "code",
   "execution_count": null,
   "metadata": {
    "collapsed": true
   },
   "outputs": [],
   "source": []
  }
 ],
 "metadata": {
  "kernelspec": {
   "display_name": "Python 3",
   "language": "python",
   "name": "python3"
  },
  "language_info": {
   "codemirror_mode": {
    "name": "ipython",
    "version": 3
   },
   "file_extension": ".py",
   "mimetype": "text/x-python",
   "name": "python",
   "nbconvert_exporter": "python",
   "pygments_lexer": "ipython3",
   "version": "3.6.3"
  }
 },
 "nbformat": 4,
 "nbformat_minor": 2
}
