{
 "cells": [
  {
   "cell_type": "markdown",
   "metadata": {
    "nbgrader": {
     "grade": false,
     "grade_id": "intro-ro",
     "locked": true,
     "schema_version": 1,
     "solution": false
    }
   },
   "source": [
    "# Generator Network\n",
    "\n",
    "Our first task in our foray into GANs will be to create a *generator*. Recall a generator $\\mathcal{G}: \\mathbb{R}^{d} \\rightarrow \\mathbb{R}^{\\text{H} \\times \\text{W} \\times \\text{C}}$ can be visualized by the computational graph\n",
    "\n",
    "<img src=\"images/Fancy G.svg\" alt=\"Drawing\" style=\"width: 300px;\"/>\n",
    "\n",
    "and maps from random points $\\mathbf{z} \\in \\mathbb{R}^{d}$ to synthetic images $\\widetilde{\\mathbf{X}} \\in \\mathbb{R}^{\\text{H} \\times \\text{W} \\times \\text{C}}$. For this lab, we will model $\\mathcal{G}$ as a computational graph. Since we are considering MNIST digits, we will take C = 1 and W = H = 28 since. We will also be using $d = 100$."
   ]
  },
  {
   "cell_type": "code",
   "execution_count": 1,
   "metadata": {},
   "outputs": [
    {
     "name": "stderr",
     "output_type": "stream",
     "text": [
      "Using TensorFlow backend.\n"
     ]
    }
   ],
   "source": [
    "import os\n",
    "import numpy as np\n",
    "import progressbar\n",
    "import matplotlib.pyplot as plt\n",
    "from keras.layers import Input\n",
    "from keras.models import Model, Sequential\n",
    "from keras.layers.core import Reshape, Dense, Dropout, Flatten\n",
    "from keras.layers.advanced_activations import LeakyReLU # https://keras.io/layers/advanced-activations/\n",
    "from keras.layers.convolutional import Conv2D, UpSampling2D #https://keras.io/layers/convolutional/#upsampling2d\n",
    "from keras.datasets import mnist\n",
    "from keras.optimizers import Adam\n",
    "from keras import backend as K\n",
    "from keras import initializers\n",
    "from keras.utils import np_utils\n",
    "from IPython.display import SVG\n",
    "from keras.utils.vis_utils import model_to_dot\n",
    "\n",
    "bar = progressbar.ProgressBar()\n",
    "K.set_image_dim_ordering('th')"
   ]
  },
  {
   "cell_type": "code",
   "execution_count": 2,
   "metadata": {},
   "outputs": [
    {
     "name": "stdout",
     "output_type": "stream",
     "text": [
      "_________________________________________________________________\n",
      "Layer (type)                 Output Shape              Param #   \n",
      "=================================================================\n",
      "dense_1 (Dense)              (None, 6272)              633472    \n",
      "_________________________________________________________________\n",
      "leaky_re_lu_1 (LeakyReLU)    (None, 6272)              0         \n",
      "_________________________________________________________________\n",
      "reshape_1 (Reshape)          (None, 128, 7, 7)         0         \n",
      "_________________________________________________________________\n",
      "up_sampling2d_1 (UpSampling2 (None, 128, 14, 14)       0         \n",
      "_________________________________________________________________\n",
      "conv2d_1 (Conv2D)            (None, 64, 14, 14)        204864    \n",
      "_________________________________________________________________\n",
      "leaky_re_lu_2 (LeakyReLU)    (None, 64, 14, 14)        0         \n",
      "_________________________________________________________________\n",
      "up_sampling2d_2 (UpSampling2 (None, 64, 28, 28)        0         \n",
      "_________________________________________________________________\n",
      "conv2d_2 (Conv2D)            (None, 1, 28, 28)         1601      \n",
      "=================================================================\n",
      "Total params: 839,937\n",
      "Trainable params: 839,937\n",
      "Non-trainable params: 0\n",
      "_________________________________________________________________\n"
     ]
    },
    {
     "data": {
      "image/svg+xml": [
       "<svg height=\"629pt\" viewBox=\"0.00 0.00 215.00 629.00\" width=\"215pt\" xmlns=\"http://www.w3.org/2000/svg\" xmlns:xlink=\"http://www.w3.org/1999/xlink\">\n",
       "<g class=\"graph\" id=\"graph0\" transform=\"scale(1 1) rotate(0) translate(4 625)\">\n",
       "<title>G</title>\n",
       "<polygon fill=\"white\" points=\"-4,4 -4,-625 211,-625 211,4 -4,4\" stroke=\"none\"/>\n",
       "<!-- 140593806515560 -->\n",
       "<g class=\"node\" id=\"node1\"><title>140593806515560</title>\n",
       "<polygon fill=\"none\" points=\"22,-584.5 22,-620.5 185,-620.5 185,-584.5 22,-584.5\" stroke=\"black\"/>\n",
       "<text font-family=\"Times,serif\" font-size=\"14.00\" text-anchor=\"middle\" x=\"103.5\" y=\"-598.8\">dense_1_input: InputLayer</text>\n",
       "</g>\n",
       "<!-- 140593806514496 -->\n",
       "<g class=\"node\" id=\"node2\"><title>140593806514496</title>\n",
       "<polygon fill=\"none\" points=\"52.5,-511.5 52.5,-547.5 154.5,-547.5 154.5,-511.5 52.5,-511.5\" stroke=\"black\"/>\n",
       "<text font-family=\"Times,serif\" font-size=\"14.00\" text-anchor=\"middle\" x=\"103.5\" y=\"-525.8\">dense_1: Dense</text>\n",
       "</g>\n",
       "<!-- 140593806515560&#45;&gt;140593806514496 -->\n",
       "<g class=\"edge\" id=\"edge1\"><title>140593806515560-&gt;140593806514496</title>\n",
       "<path d=\"M103.5,-584.313C103.5,-576.289 103.5,-566.547 103.5,-557.569\" fill=\"none\" stroke=\"black\"/>\n",
       "<polygon fill=\"black\" points=\"107,-557.529 103.5,-547.529 100,-557.529 107,-557.529\" stroke=\"black\"/>\n",
       "</g>\n",
       "<!-- 140593806450472 -->\n",
       "<g class=\"node\" id=\"node3\"><title>140593806450472</title>\n",
       "<polygon fill=\"none\" points=\"19.5,-438.5 19.5,-474.5 187.5,-474.5 187.5,-438.5 19.5,-438.5\" stroke=\"black\"/>\n",
       "<text font-family=\"Times,serif\" font-size=\"14.00\" text-anchor=\"middle\" x=\"103.5\" y=\"-452.8\">leaky_re_lu_1: LeakyReLU</text>\n",
       "</g>\n",
       "<!-- 140593806514496&#45;&gt;140593806450472 -->\n",
       "<g class=\"edge\" id=\"edge2\"><title>140593806514496-&gt;140593806450472</title>\n",
       "<path d=\"M103.5,-511.313C103.5,-503.289 103.5,-493.547 103.5,-484.569\" fill=\"none\" stroke=\"black\"/>\n",
       "<polygon fill=\"black\" points=\"107,-484.529 103.5,-474.529 100,-484.529 107,-484.529\" stroke=\"black\"/>\n",
       "</g>\n",
       "<!-- 140593806799872 -->\n",
       "<g class=\"node\" id=\"node4\"><title>140593806799872</title>\n",
       "<polygon fill=\"none\" points=\"41,-365.5 41,-401.5 166,-401.5 166,-365.5 41,-365.5\" stroke=\"black\"/>\n",
       "<text font-family=\"Times,serif\" font-size=\"14.00\" text-anchor=\"middle\" x=\"103.5\" y=\"-379.8\">reshape_1: Reshape</text>\n",
       "</g>\n",
       "<!-- 140593806450472&#45;&gt;140593806799872 -->\n",
       "<g class=\"edge\" id=\"edge3\"><title>140593806450472-&gt;140593806799872</title>\n",
       "<path d=\"M103.5,-438.313C103.5,-430.289 103.5,-420.547 103.5,-411.569\" fill=\"none\" stroke=\"black\"/>\n",
       "<polygon fill=\"black\" points=\"107,-411.529 103.5,-401.529 100,-411.529 107,-411.529\" stroke=\"black\"/>\n",
       "</g>\n",
       "<!-- 140593806799424 -->\n",
       "<g class=\"node\" id=\"node5\"><title>140593806799424</title>\n",
       "<polygon fill=\"none\" points=\"0,-292.5 0,-328.5 207,-328.5 207,-292.5 0,-292.5\" stroke=\"black\"/>\n",
       "<text font-family=\"Times,serif\" font-size=\"14.00\" text-anchor=\"middle\" x=\"103.5\" y=\"-306.8\">up_sampling2d_1: UpSampling2D</text>\n",
       "</g>\n",
       "<!-- 140593806799872&#45;&gt;140593806799424 -->\n",
       "<g class=\"edge\" id=\"edge4\"><title>140593806799872-&gt;140593806799424</title>\n",
       "<path d=\"M103.5,-365.313C103.5,-357.289 103.5,-347.547 103.5,-338.569\" fill=\"none\" stroke=\"black\"/>\n",
       "<polygon fill=\"black\" points=\"107,-338.529 103.5,-328.529 100,-338.529 107,-338.529\" stroke=\"black\"/>\n",
       "</g>\n",
       "<!-- 140593806799032 -->\n",
       "<g class=\"node\" id=\"node6\"><title>140593806799032</title>\n",
       "<polygon fill=\"none\" points=\"42,-219.5 42,-255.5 165,-255.5 165,-219.5 42,-219.5\" stroke=\"black\"/>\n",
       "<text font-family=\"Times,serif\" font-size=\"14.00\" text-anchor=\"middle\" x=\"103.5\" y=\"-233.8\">conv2d_1: Conv2D</text>\n",
       "</g>\n",
       "<!-- 140593806799424&#45;&gt;140593806799032 -->\n",
       "<g class=\"edge\" id=\"edge5\"><title>140593806799424-&gt;140593806799032</title>\n",
       "<path d=\"M103.5,-292.313C103.5,-284.289 103.5,-274.547 103.5,-265.569\" fill=\"none\" stroke=\"black\"/>\n",
       "<polygon fill=\"black\" points=\"107,-265.529 103.5,-255.529 100,-265.529 107,-265.529\" stroke=\"black\"/>\n",
       "</g>\n",
       "<!-- 140593806154384 -->\n",
       "<g class=\"node\" id=\"node7\"><title>140593806154384</title>\n",
       "<polygon fill=\"none\" points=\"19.5,-146.5 19.5,-182.5 187.5,-182.5 187.5,-146.5 19.5,-146.5\" stroke=\"black\"/>\n",
       "<text font-family=\"Times,serif\" font-size=\"14.00\" text-anchor=\"middle\" x=\"103.5\" y=\"-160.8\">leaky_re_lu_2: LeakyReLU</text>\n",
       "</g>\n",
       "<!-- 140593806799032&#45;&gt;140593806154384 -->\n",
       "<g class=\"edge\" id=\"edge6\"><title>140593806799032-&gt;140593806154384</title>\n",
       "<path d=\"M103.5,-219.313C103.5,-211.289 103.5,-201.547 103.5,-192.569\" fill=\"none\" stroke=\"black\"/>\n",
       "<polygon fill=\"black\" points=\"107,-192.529 103.5,-182.529 100,-192.529 107,-192.529\" stroke=\"black\"/>\n",
       "</g>\n",
       "<!-- 140593805860648 -->\n",
       "<g class=\"node\" id=\"node8\"><title>140593805860648</title>\n",
       "<polygon fill=\"none\" points=\"0,-73.5 0,-109.5 207,-109.5 207,-73.5 0,-73.5\" stroke=\"black\"/>\n",
       "<text font-family=\"Times,serif\" font-size=\"14.00\" text-anchor=\"middle\" x=\"103.5\" y=\"-87.8\">up_sampling2d_2: UpSampling2D</text>\n",
       "</g>\n",
       "<!-- 140593806154384&#45;&gt;140593805860648 -->\n",
       "<g class=\"edge\" id=\"edge7\"><title>140593806154384-&gt;140593805860648</title>\n",
       "<path d=\"M103.5,-146.313C103.5,-138.289 103.5,-128.547 103.5,-119.569\" fill=\"none\" stroke=\"black\"/>\n",
       "<polygon fill=\"black\" points=\"107,-119.529 103.5,-109.529 100,-119.529 107,-119.529\" stroke=\"black\"/>\n",
       "</g>\n",
       "<!-- 140593806239784 -->\n",
       "<g class=\"node\" id=\"node9\"><title>140593806239784</title>\n",
       "<polygon fill=\"none\" points=\"42,-0.5 42,-36.5 165,-36.5 165,-0.5 42,-0.5\" stroke=\"black\"/>\n",
       "<text font-family=\"Times,serif\" font-size=\"14.00\" text-anchor=\"middle\" x=\"103.5\" y=\"-14.8\">conv2d_2: Conv2D</text>\n",
       "</g>\n",
       "<!-- 140593805860648&#45;&gt;140593806239784 -->\n",
       "<g class=\"edge\" id=\"edge8\"><title>140593805860648-&gt;140593806239784</title>\n",
       "<path d=\"M103.5,-73.3129C103.5,-65.2895 103.5,-55.5475 103.5,-46.5691\" fill=\"none\" stroke=\"black\"/>\n",
       "<polygon fill=\"black\" points=\"107,-46.5288 103.5,-36.5288 100,-46.5289 107,-46.5288\" stroke=\"black\"/>\n",
       "</g>\n",
       "</g>\n",
       "</svg>"
      ],
      "text/plain": [
       "<IPython.core.display.SVG object>"
      ]
     },
     "execution_count": 2,
     "metadata": {},
     "output_type": "execute_result"
    }
   ],
   "source": [
    "nb_filter = 200\n",
    "\n",
    "# The results are a little better when the dimensionality of the random vector is only 10.\n",
    "# The dimensionality has been left at 100 for consistency with other GAN implementations.\n",
    "randomDim = 100\n",
    "\n",
    "# Optimizer\n",
    "adam = Adam(lr=0.0002, beta_1=0.5)\n",
    "\n",
    "# Generator\n",
    "generator = Sequential()\n",
    "generator.add(Dense(128*7*7, input_dim=randomDim, kernel_initializer=initializers.RandomNormal(stddev=0.02)))\n",
    "generator.add(LeakyReLU(0.2))\n",
    "generator.add(Reshape((128, 7, 7)))\n",
    "generator.add(UpSampling2D(size=(2, 2)))\n",
    "generator.add(Conv2D(64, kernel_size=(5, 5), padding='same'))\n",
    "generator.add(LeakyReLU(0.2))\n",
    "generator.add(UpSampling2D(size=(2, 2)))\n",
    "generator.add(Conv2D(1, kernel_size=(5, 5), padding='same', activation='tanh'))\n",
    "generator.compile(loss='binary_crossentropy', optimizer=adam)\n",
    "generator.summary()\n",
    "SVG(model_to_dot(generator).create(prog='dot', format='svg'))"
   ]
  },
  {
   "cell_type": "markdown",
   "metadata": {
    "nbgrader": {
     "grade": false,
     "grade_id": "d-ro",
     "locked": true,
     "schema_version": 1,
     "solution": false
    }
   },
   "source": [
    "# Discriminator Network\n",
    "\n",
    "Our next order of business will be defining a *discriminator* model. Recall a discriminator $\\mathcal{D}: \\mathbb{R}^{\\text{H} \\times \\text{W} \\times \\text{C}} \\rightarrow \\mathbb{R}$ maps an image $\\mathbf{X} \\in \\mathbb{R}^{\\text{H} \\times \\text{W} \\times \\text{C}}$ to a probability $p \\in \\mathbb{R}$ that $\\mathbf{X}$ came from the data distribution and **not** the generator. We can visualize $\\mathcal{D}$ as the computational graph\n",
    "\n",
    "<img src=\"images/Fancy D.svg\" alt=\"Discriminator\" style=\"width: 300px;\"/>\n",
    "\n",
    "and as with $\\mathcal{G}$, we will model $\\mathcal{D}$ as a neural network."
   ]
  },
  {
   "cell_type": "code",
   "execution_count": 3,
   "metadata": {},
   "outputs": [
    {
     "name": "stdout",
     "output_type": "stream",
     "text": [
      "_________________________________________________________________\n",
      "Layer (type)                 Output Shape              Param #   \n",
      "=================================================================\n",
      "conv2d_3 (Conv2D)            (None, 64, 14, 14)        1664      \n",
      "_________________________________________________________________\n",
      "leaky_re_lu_3 (LeakyReLU)    (None, 64, 14, 14)        0         \n",
      "_________________________________________________________________\n",
      "dropout_1 (Dropout)          (None, 64, 14, 14)        0         \n",
      "_________________________________________________________________\n",
      "conv2d_4 (Conv2D)            (None, 128, 7, 7)         204928    \n",
      "_________________________________________________________________\n",
      "leaky_re_lu_4 (LeakyReLU)    (None, 128, 7, 7)         0         \n",
      "_________________________________________________________________\n",
      "dropout_2 (Dropout)          (None, 128, 7, 7)         0         \n",
      "_________________________________________________________________\n",
      "flatten_1 (Flatten)          (None, 6272)              0         \n",
      "_________________________________________________________________\n",
      "dense_2 (Dense)              (None, 1)                 6273      \n",
      "=================================================================\n",
      "Total params: 212,865\n",
      "Trainable params: 212,865\n",
      "Non-trainable params: 0\n",
      "_________________________________________________________________\n"
     ]
    },
    {
     "data": {
      "image/svg+xml": [
       "<svg height=\"629pt\" viewBox=\"0.00 0.00 180.00 629.00\" width=\"180pt\" xmlns=\"http://www.w3.org/2000/svg\" xmlns:xlink=\"http://www.w3.org/1999/xlink\">\n",
       "<g class=\"graph\" id=\"graph0\" transform=\"scale(1 1) rotate(0) translate(4 625)\">\n",
       "<title>G</title>\n",
       "<polygon fill=\"white\" points=\"-4,4 -4,-625 176,-625 176,4 -4,4\" stroke=\"none\"/>\n",
       "<!-- 140593806372256 -->\n",
       "<g class=\"node\" id=\"node1\"><title>140593806372256</title>\n",
       "<polygon fill=\"none\" points=\"0,-584.5 0,-620.5 172,-620.5 172,-584.5 0,-584.5\" stroke=\"black\"/>\n",
       "<text font-family=\"Times,serif\" font-size=\"14.00\" text-anchor=\"middle\" x=\"86\" y=\"-598.8\">conv2d_3_input: InputLayer</text>\n",
       "</g>\n",
       "<!-- 140593806372032 -->\n",
       "<g class=\"node\" id=\"node2\"><title>140593806372032</title>\n",
       "<polygon fill=\"none\" points=\"24.5,-511.5 24.5,-547.5 147.5,-547.5 147.5,-511.5 24.5,-511.5\" stroke=\"black\"/>\n",
       "<text font-family=\"Times,serif\" font-size=\"14.00\" text-anchor=\"middle\" x=\"86\" y=\"-525.8\">conv2d_3: Conv2D</text>\n",
       "</g>\n",
       "<!-- 140593806372256&#45;&gt;140593806372032 -->\n",
       "<g class=\"edge\" id=\"edge1\"><title>140593806372256-&gt;140593806372032</title>\n",
       "<path d=\"M86,-584.313C86,-576.289 86,-566.547 86,-557.569\" fill=\"none\" stroke=\"black\"/>\n",
       "<polygon fill=\"black\" points=\"89.5001,-557.529 86,-547.529 82.5001,-557.529 89.5001,-557.529\" stroke=\"black\"/>\n",
       "</g>\n",
       "<!-- 140593803999216 -->\n",
       "<g class=\"node\" id=\"node3\"><title>140593803999216</title>\n",
       "<polygon fill=\"none\" points=\"2,-438.5 2,-474.5 170,-474.5 170,-438.5 2,-438.5\" stroke=\"black\"/>\n",
       "<text font-family=\"Times,serif\" font-size=\"14.00\" text-anchor=\"middle\" x=\"86\" y=\"-452.8\">leaky_re_lu_3: LeakyReLU</text>\n",
       "</g>\n",
       "<!-- 140593806372032&#45;&gt;140593803999216 -->\n",
       "<g class=\"edge\" id=\"edge2\"><title>140593806372032-&gt;140593803999216</title>\n",
       "<path d=\"M86,-511.313C86,-503.289 86,-493.547 86,-484.569\" fill=\"none\" stroke=\"black\"/>\n",
       "<polygon fill=\"black\" points=\"89.5001,-484.529 86,-474.529 82.5001,-484.529 89.5001,-484.529\" stroke=\"black\"/>\n",
       "</g>\n",
       "<!-- 140593804037032 -->\n",
       "<g class=\"node\" id=\"node4\"><title>140593804037032</title>\n",
       "<polygon fill=\"none\" points=\"23.5,-365.5 23.5,-401.5 148.5,-401.5 148.5,-365.5 23.5,-365.5\" stroke=\"black\"/>\n",
       "<text font-family=\"Times,serif\" font-size=\"14.00\" text-anchor=\"middle\" x=\"86\" y=\"-379.8\">dropout_1: Dropout</text>\n",
       "</g>\n",
       "<!-- 140593803999216&#45;&gt;140593804037032 -->\n",
       "<g class=\"edge\" id=\"edge3\"><title>140593803999216-&gt;140593804037032</title>\n",
       "<path d=\"M86,-438.313C86,-430.289 86,-420.547 86,-411.569\" fill=\"none\" stroke=\"black\"/>\n",
       "<polygon fill=\"black\" points=\"89.5001,-411.529 86,-401.529 82.5001,-411.529 89.5001,-411.529\" stroke=\"black\"/>\n",
       "</g>\n",
       "<!-- 140593804094152 -->\n",
       "<g class=\"node\" id=\"node5\"><title>140593804094152</title>\n",
       "<polygon fill=\"none\" points=\"24.5,-292.5 24.5,-328.5 147.5,-328.5 147.5,-292.5 24.5,-292.5\" stroke=\"black\"/>\n",
       "<text font-family=\"Times,serif\" font-size=\"14.00\" text-anchor=\"middle\" x=\"86\" y=\"-306.8\">conv2d_4: Conv2D</text>\n",
       "</g>\n",
       "<!-- 140593804037032&#45;&gt;140593804094152 -->\n",
       "<g class=\"edge\" id=\"edge4\"><title>140593804037032-&gt;140593804094152</title>\n",
       "<path d=\"M86,-365.313C86,-357.289 86,-347.547 86,-338.569\" fill=\"none\" stroke=\"black\"/>\n",
       "<polygon fill=\"black\" points=\"89.5001,-338.529 86,-328.529 82.5001,-338.529 89.5001,-338.529\" stroke=\"black\"/>\n",
       "</g>\n",
       "<!-- 140593803705872 -->\n",
       "<g class=\"node\" id=\"node6\"><title>140593803705872</title>\n",
       "<polygon fill=\"none\" points=\"2,-219.5 2,-255.5 170,-255.5 170,-219.5 2,-219.5\" stroke=\"black\"/>\n",
       "<text font-family=\"Times,serif\" font-size=\"14.00\" text-anchor=\"middle\" x=\"86\" y=\"-233.8\">leaky_re_lu_4: LeakyReLU</text>\n",
       "</g>\n",
       "<!-- 140593804094152&#45;&gt;140593803705872 -->\n",
       "<g class=\"edge\" id=\"edge5\"><title>140593804094152-&gt;140593803705872</title>\n",
       "<path d=\"M86,-292.313C86,-284.289 86,-274.547 86,-265.569\" fill=\"none\" stroke=\"black\"/>\n",
       "<polygon fill=\"black\" points=\"89.5001,-265.529 86,-255.529 82.5001,-265.529 89.5001,-265.529\" stroke=\"black\"/>\n",
       "</g>\n",
       "<!-- 140593803312600 -->\n",
       "<g class=\"node\" id=\"node7\"><title>140593803312600</title>\n",
       "<polygon fill=\"none\" points=\"23.5,-146.5 23.5,-182.5 148.5,-182.5 148.5,-146.5 23.5,-146.5\" stroke=\"black\"/>\n",
       "<text font-family=\"Times,serif\" font-size=\"14.00\" text-anchor=\"middle\" x=\"86\" y=\"-160.8\">dropout_2: Dropout</text>\n",
       "</g>\n",
       "<!-- 140593803705872&#45;&gt;140593803312600 -->\n",
       "<g class=\"edge\" id=\"edge6\"><title>140593803705872-&gt;140593803312600</title>\n",
       "<path d=\"M86,-219.313C86,-211.289 86,-201.547 86,-192.569\" fill=\"none\" stroke=\"black\"/>\n",
       "<polygon fill=\"black\" points=\"89.5001,-192.529 86,-182.529 82.5001,-192.529 89.5001,-192.529\" stroke=\"black\"/>\n",
       "</g>\n",
       "<!-- 140593804127144 -->\n",
       "<g class=\"node\" id=\"node8\"><title>140593804127144</title>\n",
       "<polygon fill=\"none\" points=\"31,-73.5 31,-109.5 141,-109.5 141,-73.5 31,-73.5\" stroke=\"black\"/>\n",
       "<text font-family=\"Times,serif\" font-size=\"14.00\" text-anchor=\"middle\" x=\"86\" y=\"-87.8\">flatten_1: Flatten</text>\n",
       "</g>\n",
       "<!-- 140593803312600&#45;&gt;140593804127144 -->\n",
       "<g class=\"edge\" id=\"edge7\"><title>140593803312600-&gt;140593804127144</title>\n",
       "<path d=\"M86,-146.313C86,-138.289 86,-128.547 86,-119.569\" fill=\"none\" stroke=\"black\"/>\n",
       "<polygon fill=\"black\" points=\"89.5001,-119.529 86,-109.529 82.5001,-119.529 89.5001,-119.529\" stroke=\"black\"/>\n",
       "</g>\n",
       "<!-- 140593803053208 -->\n",
       "<g class=\"node\" id=\"node9\"><title>140593803053208</title>\n",
       "<polygon fill=\"none\" points=\"35,-0.5 35,-36.5 137,-36.5 137,-0.5 35,-0.5\" stroke=\"black\"/>\n",
       "<text font-family=\"Times,serif\" font-size=\"14.00\" text-anchor=\"middle\" x=\"86\" y=\"-14.8\">dense_2: Dense</text>\n",
       "</g>\n",
       "<!-- 140593804127144&#45;&gt;140593803053208 -->\n",
       "<g class=\"edge\" id=\"edge8\"><title>140593804127144-&gt;140593803053208</title>\n",
       "<path d=\"M86,-73.3129C86,-65.2895 86,-55.5475 86,-46.5691\" fill=\"none\" stroke=\"black\"/>\n",
       "<polygon fill=\"black\" points=\"89.5001,-46.5288 86,-36.5288 82.5001,-46.5289 89.5001,-46.5288\" stroke=\"black\"/>\n",
       "</g>\n",
       "</g>\n",
       "</svg>"
      ],
      "text/plain": [
       "<IPython.core.display.SVG object>"
      ]
     },
     "execution_count": 3,
     "metadata": {},
     "output_type": "execute_result"
    }
   ],
   "source": [
    "# Discriminator\n",
    "discriminator = Sequential()\n",
    "discriminator.add(Conv2D(64, kernel_size=(5, 5), strides=(2, 2), padding='same', input_shape=(1, 28, 28), kernel_initializer=initializers.RandomNormal(stddev=0.02)))\n",
    "discriminator.add(LeakyReLU(0.2))\n",
    "discriminator.add(Dropout(0.3))\n",
    "discriminator.add(Conv2D(128, kernel_size=(5, 5), strides=(2, 2), padding='same'))\n",
    "discriminator.add(LeakyReLU(0.2))\n",
    "discriminator.add(Dropout(0.3))\n",
    "discriminator.add(Flatten())\n",
    "discriminator.add(Dense(1, activation='sigmoid'))\n",
    "discriminator.compile(loss='binary_crossentropy', optimizer=adam)\n",
    "discriminator.summary()\n",
    "SVG(model_to_dot(discriminator).create(prog='dot', format='svg'))"
   ]
  },
  {
   "cell_type": "markdown",
   "metadata": {
    "nbgrader": {
     "grade": false,
     "grade_id": "sample_g-ro",
     "locked": true,
     "schema_version": 1,
     "solution": false
    }
   },
   "source": [
    "# Sample From $\\mathcal{G}$\n",
    "\n",
    "Even though $\\mathcal{G}$ is not very good at generating realistic images, we can sample from it to get an idea of the kinds of images it is generating right now. Let's do that now."
   ]
  },
  {
   "cell_type": "code",
   "execution_count": 4,
   "metadata": {
    "nbgrader": {
     "grade": false,
     "grade_id": "sample_g-aa",
     "locked": false,
     "schema_version": 1,
     "solution": true
    }
   },
   "outputs": [
    {
     "data": {
      "image/png": "[encoded data removed]",
      "text/plain": [
       "<PIL.Image.Image image mode=L size=64x64 at 0x7FDE8B976A90>"
      ]
     },
     "metadata": {},
     "output_type": "display_data"
    },
    {
     "data": {
      "image/png": "[encoded data removed]",
      "text/plain": [
       "<PIL.Image.Image image mode=L size=64x64 at 0x7FDE8BE90EB8>"
      ]
     },
     "metadata": {},
     "output_type": "display_data"
    },
    {
     "data": {
      "image/png": "[encoded data removed]",
      "text/plain": [
       "<PIL.Image.Image image mode=L size=64x64 at 0x7FDE8BE90F60>"
      ]
     },
     "metadata": {},
     "output_type": "display_data"
    },
    {
     "data": {
      "image/png": "[encoded data removed]",
      "text/plain": [
       "<PIL.Image.Image image mode=L size=64x64 at 0x7FDE8BE90C50>"
      ]
     },
     "metadata": {},
     "output_type": "display_data"
    },
    {
     "data": {
      "image/png": "[encoded data removed]",
      "text/plain": [
       "<PIL.Image.Image image mode=L size=64x64 at 0x7FDE8B96F2B0>"
      ]
     },
     "metadata": {},
     "output_type": "display_data"
    }
   ],
   "source": [
    "from IPython.display import display\n",
    "import numpy as np\n",
    "from keras.preprocessing.image import array_to_img\n",
    "\n",
    "nb_sample = 5\n",
    "\n",
    "z = np.random.uniform(size=[nb_sample, 100])\n",
    "X_fake = generator.predict(z)\n",
    "imgs = [array_to_img(x) for x in X_fake]\n",
    "imgs = [img.resize(size=[64, 64]) for img in imgs]\n",
    "\n",
    "for img in imgs:\n",
    "    display(img)"
   ]
  },
  {
   "cell_type": "markdown",
   "metadata": {
    "nbgrader": {
     "grade": false,
     "grade_id": "mnist-ro",
     "locked": true,
     "schema_version": 1,
     "solution": false
    }
   },
   "source": [
    "# Load MNIST Data\n",
    "\n",
    "For this lab, we will be using the MNIST dataset to train our GAN to produce realistic images of handwritten digits. So the first thing we need to do is load the data!"
   ]
  },
  {
   "cell_type": "code",
   "execution_count": 5,
   "metadata": {
    "nbgrader": {
     "grade": false,
     "grade_id": "mnist-code",
     "locked": true,
     "schema_version": 1,
     "solution": false
    }
   },
   "outputs": [
    {
     "name": "stdout",
     "output_type": "stream",
     "text": [
      "44251\n"
     ]
    },
    {
     "data": {
      "image/png": "[encoded data removed]",
      "text/plain": [
       "<PIL.Image.Image image mode=L size=64x64 at 0x7FDE880364A8>"
      ]
     },
     "metadata": {},
     "output_type": "display_data"
    },
    {
     "name": "stdout",
     "output_type": "stream",
     "text": [
      "50106\n"
     ]
    },
    {
     "data": {
      "image/png": "[encoded data removed]",
      "text/plain": [
       "<PIL.Image.Image image mode=L size=64x64 at 0x7FDE88036630>"
      ]
     },
     "metadata": {},
     "output_type": "display_data"
    },
    {
     "name": "stdout",
     "output_type": "stream",
     "text": [
      "23399\n"
     ]
    },
    {
     "data": {
      "image/png": "[encoded data removed]",
      "text/plain": [
       "<PIL.Image.Image image mode=L size=64x64 at 0x7FDE88036588>"
      ]
     },
     "metadata": {},
     "output_type": "display_data"
    },
    {
     "name": "stdout",
     "output_type": "stream",
     "text": [
      "4681\n"
     ]
    },
    {
     "data": {
      "image/png": "[encoded data removed]",
      "text/plain": [
       "<PIL.Image.Image image mode=L size=64x64 at 0x7FDE88036518>"
      ]
     },
     "metadata": {},
     "output_type": "display_data"
    },
    {
     "name": "stdout",
     "output_type": "stream",
     "text": [
      "1139\n"
     ]
    },
    {
     "data": {
      "image/png": "[encoded data removed]",
      "text/plain": [
       "<PIL.Image.Image image mode=L size=64x64 at 0x7FDE880366A0>"
      ]
     },
     "metadata": {},
     "output_type": "display_data"
    }
   ],
   "source": [
    "from IPython.display import display\n",
    "import numpy as np\n",
    "from keras.datasets import mnist\n",
    "from keras.preprocessing.image import array_to_img\n",
    "from keras.utils import np_utils\n",
    "\n",
    "# Load MNIST data\n",
    "(X_train, y_train), (X_test, y_test) = mnist.load_data()\n",
    "X_train = (X_train.astype(np.float32) - 127.5)/127.5 #this is whitening\n",
    "X_train = X_train[:, np.newaxis, :, :]\n",
    "\n",
    "nb_mnist = len(X_train)\n",
    "for idx in np.random.choice(nb_mnist, size=5, replace=False):\n",
    "    print(idx)\n",
    "    x = X_train[idx]\n",
    "    #print(x.shape)\n",
    "    img = array_to_img(x).resize(size=[64, 64])\n",
    "    display(img)"
   ]
  },
  {
   "cell_type": "markdown",
   "metadata": {
    "nbgrader": {
     "grade": false,
     "grade_id": "pretrain_d1-ro",
     "locked": true,
     "schema_version": 1,
     "solution": false
    }
   },
   "source": [
    "# Pretrain $\\mathcal{D}$\n",
    "\n",
    "One trick for making training GANs easier is to *pretrain* the discriminator $\\mathcal{D}$. The intuition behind this is that $\\mathcal{G}$ will be able to learn to generate realistic images more quickly if $\\mathcal{D}$ already knows the difference between real and fake images."
   ]
  },
  {
   "cell_type": "code",
   "execution_count": 9,
   "metadata": {},
   "outputs": [
    {
     "data": {
      "text/plain": [
       "array([ 1.,  1.,  1., ...,  0.,  0.,  0.])"
      ]
     },
     "execution_count": 9,
     "metadata": {},
     "output_type": "execute_result"
    }
   ],
   "source": [
    "y"
   ]
  },
  {
   "cell_type": "code",
   "execution_count": 6,
   "metadata": {},
   "outputs": [
    {
     "name": "stdout",
     "output_type": "stream",
     "text": [
      "Epoch 1/1\n",
      "2000/2000 [==============================] - 6s - loss: 0.2702     \n"
     ]
    },
    {
     "data": {
      "text/plain": [
       "<keras.callbacks.History at 0x7fde88036160>"
      ]
     },
     "execution_count": 6,
     "metadata": {},
     "output_type": "execute_result"
    }
   ],
   "source": [
    "from keras.utils.np_utils import to_categorical\n",
    "\n",
    "nb_sample = 1000\n",
    "\n",
    "z = np.random.uniform(size=[nb_sample, 100])\n",
    "X_fake = generator.predict(z)\n",
    "\n",
    "y_real, y_fake = np.ones(nb_sample), np.zeros(nb_sample)\n",
    "X, y = np.concatenate([X_train[:nb_sample], X_fake]), np.concatenate([y_real, y_fake])\n",
    "y[nb_sample:] = 0\n",
    "\n",
    "\n",
    "discriminator.fit(X, y, epochs=1)"
   ]
  },
  {
   "cell_type": "markdown",
   "metadata": {},
   "source": [
    "# Generative Adversarial Network\n",
    "\n",
    "Now that we have a generator and a discriminator, let's string them together to make a *generative adversarial network*. Recall that a generative adversarial network $\\mathcal{A} = D \\circ G$ can be visualized by the computational graph\n",
    "\n",
    "<img src=\"images/Fancy GAN.svg\" alt=\"GAN\" style=\"width: 300px;\"/>\n",
    "\n",
    "and consists of a generator $\\mathcal{G}$ whose goal is to produce synthetic images $\\widetilde{\\mathbf{X}} \\in \\mathbb{R}^{\\times \\text{W} \\times \\text{H} \\times \\text{C}}$, which are realistic enough to fool $\\mathcal{D}$ into predicting a value of $p \\in \\mathbb{R}$ close to 1.0."
   ]
  },
  {
   "cell_type": "code",
   "execution_count": 7,
   "metadata": {},
   "outputs": [
    {
     "name": "stdout",
     "output_type": "stream",
     "text": [
      "_________________________________________________________________\n",
      "Layer (type)                 Output Shape              Param #   \n",
      "=================================================================\n",
      "input_1 (InputLayer)         (None, 100)               0         \n",
      "_________________________________________________________________\n",
      "sequential_1 (Sequential)    (None, 1, 28, 28)         839937    \n",
      "_________________________________________________________________\n",
      "sequential_2 (Sequential)    (None, 1)                 212865    \n",
      "=================================================================\n",
      "Total params: 1,052,802\n",
      "Trainable params: 839,937\n",
      "Non-trainable params: 212,865\n",
      "_________________________________________________________________\n"
     ]
    },
    {
     "data": {
      "image/svg+xml": [
       "<svg height=\"191pt\" viewBox=\"0.00 0.00 157.00 191.00\" width=\"157pt\" xmlns=\"http://www.w3.org/2000/svg\" xmlns:xlink=\"http://www.w3.org/1999/xlink\">\n",
       "<g class=\"graph\" id=\"graph0\" transform=\"scale(1 1) rotate(0) translate(4 187)\">\n",
       "<title>G</title>\n",
       "<polygon fill=\"white\" points=\"-4,4 -4,-187 153,-187 153,4 -4,4\" stroke=\"none\"/>\n",
       "<!-- 140593279907768 -->\n",
       "<g class=\"node\" id=\"node1\"><title>140593279907768</title>\n",
       "<polygon fill=\"none\" points=\"12,-146.5 12,-182.5 137,-182.5 137,-146.5 12,-146.5\" stroke=\"black\"/>\n",
       "<text font-family=\"Times,serif\" font-size=\"14.00\" text-anchor=\"middle\" x=\"74.5\" y=\"-160.8\">input_1: InputLayer</text>\n",
       "</g>\n",
       "<!-- 140593806372816 -->\n",
       "<g class=\"node\" id=\"node2\"><title>140593806372816</title>\n",
       "<polygon fill=\"none\" points=\"-1.42109e-14,-73.5 -1.42109e-14,-109.5 149,-109.5 149,-73.5 -1.42109e-14,-73.5\" stroke=\"black\"/>\n",
       "<text font-family=\"Times,serif\" font-size=\"14.00\" text-anchor=\"middle\" x=\"74.5\" y=\"-87.8\">sequential_1: Sequential</text>\n",
       "</g>\n",
       "<!-- 140593279907768&#45;&gt;140593806372816 -->\n",
       "<g class=\"edge\" id=\"edge1\"><title>140593279907768-&gt;140593806372816</title>\n",
       "<path d=\"M74.5,-146.313C74.5,-138.289 74.5,-128.547 74.5,-119.569\" fill=\"none\" stroke=\"black\"/>\n",
       "<polygon fill=\"black\" points=\"78.0001,-119.529 74.5,-109.529 71.0001,-119.529 78.0001,-119.529\" stroke=\"black\"/>\n",
       "</g>\n",
       "<!-- 140593806371920 -->\n",
       "<g class=\"node\" id=\"node3\"><title>140593806371920</title>\n",
       "<polygon fill=\"none\" points=\"-1.42109e-14,-0.5 -1.42109e-14,-36.5 149,-36.5 149,-0.5 -1.42109e-14,-0.5\" stroke=\"black\"/>\n",
       "<text font-family=\"Times,serif\" font-size=\"14.00\" text-anchor=\"middle\" x=\"74.5\" y=\"-14.8\">sequential_2: Sequential</text>\n",
       "</g>\n",
       "<!-- 140593806372816&#45;&gt;140593806371920 -->\n",
       "<g class=\"edge\" id=\"edge2\"><title>140593806372816-&gt;140593806371920</title>\n",
       "<path d=\"M74.5,-73.3129C74.5,-65.2895 74.5,-55.5475 74.5,-46.5691\" fill=\"none\" stroke=\"black\"/>\n",
       "<polygon fill=\"black\" points=\"78.0001,-46.5288 74.5,-36.5288 71.0001,-46.5289 78.0001,-46.5288\" stroke=\"black\"/>\n",
       "</g>\n",
       "</g>\n",
       "</svg>"
      ],
      "text/plain": [
       "<IPython.core.display.SVG object>"
      ]
     },
     "execution_count": 7,
     "metadata": {},
     "output_type": "execute_result"
    }
   ],
   "source": [
    "# Combined network\n",
    "discriminator.trainable = False\n",
    "ganInput = Input(shape=(randomDim,))\n",
    "x = generator(ganInput)\n",
    "ganOutput = discriminator(x)\n",
    "gan = Model(inputs=ganInput, outputs=ganOutput)\n",
    "gan.compile(loss='binary_crossentropy', optimizer=adam)\n",
    "gan.summary()\n",
    "SVG(model_to_dot(gan).create(prog='dot', format='svg'))"
   ]
  },
  {
   "cell_type": "markdown",
   "metadata": {},
   "source": [
    "## Helper Functions\n",
    "\n",
    "We'll want to define a few helper functions to get things going nicely."
   ]
  },
  {
   "cell_type": "code",
   "execution_count": 8,
   "metadata": {
    "collapsed": true
   },
   "outputs": [],
   "source": [
    "# Plot the loss from each batch\n",
    "def plot_loss(epoch, g_losses, d_losses):\n",
    "    plt.figure(figsize=(10, 8))\n",
    "    plt.plot(d_losses, label='Discriminitive loss')\n",
    "    plt.plot(g_losses, label='Generative loss')\n",
    "    plt.xlabel('Epoch')\n",
    "    plt.ylabel('Loss')\n",
    "    plt.legend()\n",
    "    plt.savefig('./images/dcgan_loss_epoch_%d.png' % epoch)\n",
    "\n",
    "# Create a wall of generated MNIST images\n",
    "def plot_generated_images(generator, epoch, examples=100, dim=(10, 10), figsize=(10, 10)):\n",
    "    noise = np.random.normal(0, 1, size=[examples, randomDim])\n",
    "    generated_images = generator.predict(noise)\n",
    "\n",
    "    plt.figure(figsize=figsize)\n",
    "    for i in range(generated_images.shape[0]):\n",
    "        plt.subplot(dim[0], dim[1], i+1)\n",
    "        plt.imshow(generated_images[i, 0], interpolation='nearest', cmap='gray_r')\n",
    "        plt.axis('off')\n",
    "    plt.tight_layout()\n",
    "    plt.savefig('./images/dcgan_generated_image_epoch_%d.png' % epoch)\n",
    "\n",
    "# Save the generator and discriminator networks (and weights) for later use\n",
    "def save_models(epoch):\n",
    "    generator.save('./models/dcgan_generator_epoch_%d.h5' % epoch)\n",
    "    discriminator.save('./models/dcgan_discriminator_epoch_%d.h5' % epoch)"
   ]
  },
  {
   "cell_type": "markdown",
   "metadata": {},
   "source": [
    "# Train $\\mathcal{A}$\n",
    "\n",
    "We now have all of the pieces in place to optimize $\\mathcal{A}$! The core algorithm of training a GAN can be visualized as\n",
    "\n",
    "<img src=\"images/GAN Loop.svg\" alt=\"Drawing\" style=\"width: 600px;\"/>\n",
    "\n",
    "where **;** implies concatenation. If you feel ready to implement this algorithm, then skip down to the last empty code cell and start coding! Otherwise, there is a full description at the bottom of this notebook to assist your understanding and the previous code cells will allow you to build up to the full solution.\n",
    "\n",
    "# Detailed Description of Training Algorithm\n",
    "\n",
    "The training algorithm pictured above can be more understood in more detail as\n",
    "\n",
    "1. Sample a random $\\mathbf{z}$ minibatch and predict $\\widetilde{\\mathbf{X}} = \\mathcal{G}(\\mathbf{z})$\n",
    "2. Sample a $\\mathbf{X}$ minibatch\n",
    "3. Compute $\\nabla_{\\theta_\\mathcal{D}}$ on $([\\widetilde{\\mathbf{X}} ; \\mathbf{X}], [\\mathbf{0} ; \\mathbf{1}])$ and use it to step $\\theta_\\mathcal{D}$\n",
    "4. Freeze $\\theta_\\mathcal{D}$\n",
    "5. Compute $\\nabla_{\\theta_\\mathcal{G}}$ on $(\\widetilde{\\mathbf{X}}, \\mathbf{1})$ and step $\\theta_\\mathcal{G}$\n",
    "6. Unfreeze $\\theta_\\mathcal{D}$\n",
    "7. Go to step 1\n",
    "\n",
    "In steps 1 and 2, we are simply generating a batch of fake and real images $\\widetilde{\\mathbf{X}}$ and $\\mathbf{X}$. \n",
    "\n",
    "In step 3, we are making an update to $\\theta_\\mathcal{D}$ (e.g. with SGD) so that $\\mathcal{D}$ does a little better at telling $\\widetilde{\\mathbf{X}}$ from $\\mathbf{X}$. To accomplish this, we simply pass in the labeled pair $([\\widetilde{\\mathbf{X}} ; \\mathbf{X}], [\\mathbf{0} ; \\mathbf{1}])$ and compute $\\nabla_{\\theta_\\mathcal{D}}$ via backpropagation. We are now done updating $\\theta_\\mathcal{D}$ for this round, so we freeze $\\theta_\\mathcal{D}$ in Step 4.\n",
    "\n",
    "Now comes the trickiest part of the entire procedure, which takes some explanation.\n",
    "\n",
    "In Step 5, our goal is to update the $\\mathcal{G}$'s weights so they will make $\\widetilde{\\mathbf{X}}$ a little more realistic. Note that $\\nabla_{\\theta_\\mathcal{G}}$ for the \"true\" labeling $(\\widetilde{\\mathbf{X}}, \\mathbf{0})$ (as seen in step 3 via backpropagation) tells us how to change $\\theta_\\mathcal{G}$ so that $\\widetilde{\\mathbf{X}}$ is a little *less* realistic (i.e. $\\mathcal{A}$'s loss would decrease, thus improving $\\mathcal{A}$'s accuracy). Since we want to do the opposite (i.e. decreasing $\\mathcal{A}$'s accuracy by increasing $\\mathcal{A}$'s loss), we pass in an \"adversarial\" labeling. This will make $\\widetilde{\\mathbf{X}}$ a little *more* realistic as $\\mathcal{A}$'s loss will increase. We compute $\\nabla_{\\theta_\\mathcal{G}}$ via backpropagation with this input pair and step $\\theta_\\mathcal{G}$ (e.g. with SGD).\n",
    "\n",
    "In Step 6, we are done updating $\\theta_\\mathcal{G}$ so we unfreeze $\\theta_\\mathcal{D}$.\n",
    "\n",
    "Finally, we go back to Step 1, thus entering the next round."
   ]
  },
  {
   "cell_type": "code",
   "execution_count": null,
   "metadata": {
    "collapsed": true
   },
   "outputs": [],
   "source": [
    "### Your code here\n",
    "\n",
    "\n",
    "\n",
    "\n",
    "\n",
    "\n",
    "\n"
   ]
  },
  {
   "cell_type": "code",
   "execution_count": 9,
   "metadata": {
    "collapsed": true
   },
   "outputs": [],
   "source": [
    "d_losses = []\n",
    "g_losses = []\n",
    "\n",
    "def train(epochs=1, batchSize=128):\n",
    "    batchCount = int(np.floor(X_train.shape[0] / batchSize))\n",
    "    print('Epochs:', epochs)\n",
    "    print('Batch size:', batchSize)\n",
    "    print( 'Batches per epoch:', batchCount)\n",
    "\n",
    "    for e in range(1, epochs+1):\n",
    "        print('-'*15, 'Epoch %d' % e, '-'*15) # just prints a separator\n",
    "        for _ in bar(range(batchCount)):\n",
    "            # Get a random set of input noise and images\n",
    "            noise = np.random.normal(0, 1, size=[batchSize, randomDim])\n",
    "            image_batch = X_train[np.random.randint(0, X_train.shape[0], size=batchSize)]\n",
    "\n",
    "            # Generate fake MNIST images\n",
    "            generated_images = generator.predict(noise)\n",
    "            X = np.concatenate([image_batch, generated_images])\n",
    "\n",
    "            # Labels for generated and real data\n",
    "            yDis = np.zeros(2*batchSize)\n",
    "            # One-sided label smoothing\n",
    "            yDis[:batchSize] = 0.9\n",
    "\n",
    "            # Train discriminator\n",
    "            discriminator.trainable = True\n",
    "            dloss = discriminator.train_on_batch(X, yDis)\n",
    "\n",
    "            # Train generator\n",
    "            noise = np.random.normal(0, 1, size=[batchSize, randomDim])\n",
    "            yGen = np.ones(batchSize)\n",
    "            discriminator.trainable = False\n",
    "            gloss = gan.train_on_batch(noise, yGen)\n",
    "\n",
    "        # Store loss of most recent batch from this epoch\n",
    "        d_losses.append(dloss)\n",
    "        g_losses.append(gloss)\n",
    "\n",
    "        if e == 1 or e % 5 == 0:\n",
    "            plot_generated_images(generator, e)\n",
    "            save_models(e)\n",
    "\n",
    "    # Plot series of losses\n",
    "    plot_loss(e, g_losses, d_losses)"
   ]
  },
  {
   "cell_type": "code",
   "execution_count": 10,
   "metadata": {},
   "outputs": [
    {
     "name": "stdout",
     "output_type": "stream",
     "text": [
      "Epochs: 1\n",
      "Batch size: 256\n",
      "Batches per epoch: 234\n",
      "--------------- Epoch 1 ---------------\n"
     ]
    },
    {
     "name": "stderr",
     "output_type": "stream",
     "text": [
      "  5% ( 14 of 234) |########                                                                                                                                             | Elapsed Time: 0:01:34 ETA: 0:23:53"
     ]
    },
    {
     "ename": "KeyboardInterrupt",
     "evalue": "",
     "output_type": "error",
     "traceback": [
      "\u001b[0;31m---------------------------------------------------------------------------\u001b[0m",
      "\u001b[0;31mKeyboardInterrupt\u001b[0m                         Traceback (most recent call last)",
      "\u001b[0;32m<ipython-input-10-9e6ca39b1e01>\u001b[0m in \u001b[0;36m<module>\u001b[0;34m()\u001b[0m\n\u001b[0;32m----> 1\u001b[0;31m \u001b[0mtrain\u001b[0m\u001b[0;34m(\u001b[0m\u001b[0;36m1\u001b[0m\u001b[0;34m,\u001b[0m \u001b[0;36m256\u001b[0m\u001b[0;34m)\u001b[0m\u001b[0;34m\u001b[0m\u001b[0m\n\u001b[0m",
      "\u001b[0;32m<ipython-input-9-90a28f3f84ca>\u001b[0m in \u001b[0;36mtrain\u001b[0;34m(epochs, batchSize)\u001b[0m\n\u001b[1;32m     32\u001b[0m             \u001b[0myGen\u001b[0m \u001b[0;34m=\u001b[0m \u001b[0mnp\u001b[0m\u001b[0;34m.\u001b[0m\u001b[0mones\u001b[0m\u001b[0;34m(\u001b[0m\u001b[0mbatchSize\u001b[0m\u001b[0;34m)\u001b[0m\u001b[0;34m\u001b[0m\u001b[0m\n\u001b[1;32m     33\u001b[0m             \u001b[0mdiscriminator\u001b[0m\u001b[0;34m.\u001b[0m\u001b[0mtrainable\u001b[0m \u001b[0;34m=\u001b[0m \u001b[0;32mFalse\u001b[0m\u001b[0;34m\u001b[0m\u001b[0m\n\u001b[0;32m---> 34\u001b[0;31m             \u001b[0mgloss\u001b[0m \u001b[0;34m=\u001b[0m \u001b[0mgan\u001b[0m\u001b[0;34m.\u001b[0m\u001b[0mtrain_on_batch\u001b[0m\u001b[0;34m(\u001b[0m\u001b[0mnoise\u001b[0m\u001b[0;34m,\u001b[0m \u001b[0myGen\u001b[0m\u001b[0;34m)\u001b[0m\u001b[0;34m\u001b[0m\u001b[0m\n\u001b[0m\u001b[1;32m     35\u001b[0m \u001b[0;34m\u001b[0m\u001b[0m\n\u001b[1;32m     36\u001b[0m         \u001b[0;31m# Store loss of most recent batch from this epoch\u001b[0m\u001b[0;34m\u001b[0m\u001b[0;34m\u001b[0m\u001b[0m\n",
      "\u001b[0;32m/home/thompsjj/anaconda3/lib/python3.6/site-packages/keras/engine/training.py\u001b[0m in \u001b[0;36mtrain_on_batch\u001b[0;34m(self, x, y, sample_weight, class_weight)\u001b[0m\n\u001b[1;32m   1563\u001b[0m             \u001b[0mins\u001b[0m \u001b[0;34m=\u001b[0m \u001b[0mx\u001b[0m \u001b[0;34m+\u001b[0m \u001b[0my\u001b[0m \u001b[0;34m+\u001b[0m \u001b[0msample_weights\u001b[0m\u001b[0;34m\u001b[0m\u001b[0m\n\u001b[1;32m   1564\u001b[0m         \u001b[0mself\u001b[0m\u001b[0;34m.\u001b[0m\u001b[0m_make_train_function\u001b[0m\u001b[0;34m(\u001b[0m\u001b[0;34m)\u001b[0m\u001b[0;34m\u001b[0m\u001b[0m\n\u001b[0;32m-> 1565\u001b[0;31m         \u001b[0moutputs\u001b[0m \u001b[0;34m=\u001b[0m \u001b[0mself\u001b[0m\u001b[0;34m.\u001b[0m\u001b[0mtrain_function\u001b[0m\u001b[0;34m(\u001b[0m\u001b[0mins\u001b[0m\u001b[0;34m)\u001b[0m\u001b[0;34m\u001b[0m\u001b[0m\n\u001b[0m\u001b[1;32m   1566\u001b[0m         \u001b[0;32mif\u001b[0m \u001b[0mlen\u001b[0m\u001b[0;34m(\u001b[0m\u001b[0moutputs\u001b[0m\u001b[0;34m)\u001b[0m \u001b[0;34m==\u001b[0m \u001b[0;36m1\u001b[0m\u001b[0;34m:\u001b[0m\u001b[0;34m\u001b[0m\u001b[0m\n\u001b[1;32m   1567\u001b[0m             \u001b[0;32mreturn\u001b[0m \u001b[0moutputs\u001b[0m\u001b[0;34m[\u001b[0m\u001b[0;36m0\u001b[0m\u001b[0;34m]\u001b[0m\u001b[0;34m\u001b[0m\u001b[0m\n",
      "\u001b[0;32m/home/thompsjj/anaconda3/lib/python3.6/site-packages/keras/backend/tensorflow_backend.py\u001b[0m in \u001b[0;36m__call__\u001b[0;34m(self, inputs)\u001b[0m\n\u001b[1;32m   2266\u001b[0m         updated = session.run(self.outputs + [self.updates_op],\n\u001b[1;32m   2267\u001b[0m                               \u001b[0mfeed_dict\u001b[0m\u001b[0;34m=\u001b[0m\u001b[0mfeed_dict\u001b[0m\u001b[0;34m,\u001b[0m\u001b[0;34m\u001b[0m\u001b[0m\n\u001b[0;32m-> 2268\u001b[0;31m                               **self.session_kwargs)\n\u001b[0m\u001b[1;32m   2269\u001b[0m         \u001b[0;32mreturn\u001b[0m \u001b[0mupdated\u001b[0m\u001b[0;34m[\u001b[0m\u001b[0;34m:\u001b[0m\u001b[0mlen\u001b[0m\u001b[0;34m(\u001b[0m\u001b[0mself\u001b[0m\u001b[0;34m.\u001b[0m\u001b[0moutputs\u001b[0m\u001b[0;34m)\u001b[0m\u001b[0;34m]\u001b[0m\u001b[0;34m\u001b[0m\u001b[0m\n\u001b[1;32m   2270\u001b[0m \u001b[0;34m\u001b[0m\u001b[0m\n",
      "\u001b[0;32m/home/thompsjj/anaconda3/lib/python3.6/site-packages/tensorflow/python/client/session.py\u001b[0m in \u001b[0;36mrun\u001b[0;34m(self, fetches, feed_dict, options, run_metadata)\u001b[0m\n\u001b[1;32m    893\u001b[0m     \u001b[0;32mtry\u001b[0m\u001b[0;34m:\u001b[0m\u001b[0;34m\u001b[0m\u001b[0m\n\u001b[1;32m    894\u001b[0m       result = self._run(None, fetches, feed_dict, options_ptr,\n\u001b[0;32m--> 895\u001b[0;31m                          run_metadata_ptr)\n\u001b[0m\u001b[1;32m    896\u001b[0m       \u001b[0;32mif\u001b[0m \u001b[0mrun_metadata\u001b[0m\u001b[0;34m:\u001b[0m\u001b[0;34m\u001b[0m\u001b[0m\n\u001b[1;32m    897\u001b[0m         \u001b[0mproto_data\u001b[0m \u001b[0;34m=\u001b[0m \u001b[0mtf_session\u001b[0m\u001b[0;34m.\u001b[0m\u001b[0mTF_GetBuffer\u001b[0m\u001b[0;34m(\u001b[0m\u001b[0mrun_metadata_ptr\u001b[0m\u001b[0;34m)\u001b[0m\u001b[0;34m\u001b[0m\u001b[0m\n",
      "\u001b[0;32m/home/thompsjj/anaconda3/lib/python3.6/site-packages/tensorflow/python/client/session.py\u001b[0m in \u001b[0;36m_run\u001b[0;34m(self, handle, fetches, feed_dict, options, run_metadata)\u001b[0m\n\u001b[1;32m   1122\u001b[0m     \u001b[0;32mif\u001b[0m \u001b[0mfinal_fetches\u001b[0m \u001b[0;32mor\u001b[0m \u001b[0mfinal_targets\u001b[0m \u001b[0;32mor\u001b[0m \u001b[0;34m(\u001b[0m\u001b[0mhandle\u001b[0m \u001b[0;32mand\u001b[0m \u001b[0mfeed_dict_tensor\u001b[0m\u001b[0;34m)\u001b[0m\u001b[0;34m:\u001b[0m\u001b[0;34m\u001b[0m\u001b[0m\n\u001b[1;32m   1123\u001b[0m       results = self._do_run(handle, final_targets, final_fetches,\n\u001b[0;32m-> 1124\u001b[0;31m                              feed_dict_tensor, options, run_metadata)\n\u001b[0m\u001b[1;32m   1125\u001b[0m     \u001b[0;32melse\u001b[0m\u001b[0;34m:\u001b[0m\u001b[0;34m\u001b[0m\u001b[0m\n\u001b[1;32m   1126\u001b[0m       \u001b[0mresults\u001b[0m \u001b[0;34m=\u001b[0m \u001b[0;34m[\u001b[0m\u001b[0;34m]\u001b[0m\u001b[0;34m\u001b[0m\u001b[0m\n",
      "\u001b[0;32m/home/thompsjj/anaconda3/lib/python3.6/site-packages/tensorflow/python/client/session.py\u001b[0m in \u001b[0;36m_do_run\u001b[0;34m(self, handle, target_list, fetch_list, feed_dict, options, run_metadata)\u001b[0m\n\u001b[1;32m   1319\u001b[0m     \u001b[0;32mif\u001b[0m \u001b[0mhandle\u001b[0m \u001b[0;32mis\u001b[0m \u001b[0;32mNone\u001b[0m\u001b[0;34m:\u001b[0m\u001b[0;34m\u001b[0m\u001b[0m\n\u001b[1;32m   1320\u001b[0m       return self._do_call(_run_fn, self._session, feeds, fetches, targets,\n\u001b[0;32m-> 1321\u001b[0;31m                            options, run_metadata)\n\u001b[0m\u001b[1;32m   1322\u001b[0m     \u001b[0;32melse\u001b[0m\u001b[0;34m:\u001b[0m\u001b[0;34m\u001b[0m\u001b[0m\n\u001b[1;32m   1323\u001b[0m       \u001b[0;32mreturn\u001b[0m \u001b[0mself\u001b[0m\u001b[0;34m.\u001b[0m\u001b[0m_do_call\u001b[0m\u001b[0;34m(\u001b[0m\u001b[0m_prun_fn\u001b[0m\u001b[0;34m,\u001b[0m \u001b[0mself\u001b[0m\u001b[0;34m.\u001b[0m\u001b[0m_session\u001b[0m\u001b[0;34m,\u001b[0m \u001b[0mhandle\u001b[0m\u001b[0;34m,\u001b[0m \u001b[0mfeeds\u001b[0m\u001b[0;34m,\u001b[0m \u001b[0mfetches\u001b[0m\u001b[0;34m)\u001b[0m\u001b[0;34m\u001b[0m\u001b[0m\n",
      "\u001b[0;32m/home/thompsjj/anaconda3/lib/python3.6/site-packages/tensorflow/python/client/session.py\u001b[0m in \u001b[0;36m_do_call\u001b[0;34m(self, fn, *args)\u001b[0m\n\u001b[1;32m   1325\u001b[0m   \u001b[0;32mdef\u001b[0m \u001b[0m_do_call\u001b[0m\u001b[0;34m(\u001b[0m\u001b[0mself\u001b[0m\u001b[0;34m,\u001b[0m \u001b[0mfn\u001b[0m\u001b[0;34m,\u001b[0m \u001b[0;34m*\u001b[0m\u001b[0margs\u001b[0m\u001b[0;34m)\u001b[0m\u001b[0;34m:\u001b[0m\u001b[0;34m\u001b[0m\u001b[0m\n\u001b[1;32m   1326\u001b[0m     \u001b[0;32mtry\u001b[0m\u001b[0;34m:\u001b[0m\u001b[0;34m\u001b[0m\u001b[0m\n\u001b[0;32m-> 1327\u001b[0;31m       \u001b[0;32mreturn\u001b[0m \u001b[0mfn\u001b[0m\u001b[0;34m(\u001b[0m\u001b[0;34m*\u001b[0m\u001b[0margs\u001b[0m\u001b[0;34m)\u001b[0m\u001b[0;34m\u001b[0m\u001b[0m\n\u001b[0m\u001b[1;32m   1328\u001b[0m     \u001b[0;32mexcept\u001b[0m \u001b[0merrors\u001b[0m\u001b[0;34m.\u001b[0m\u001b[0mOpError\u001b[0m \u001b[0;32mas\u001b[0m \u001b[0me\u001b[0m\u001b[0;34m:\u001b[0m\u001b[0;34m\u001b[0m\u001b[0m\n\u001b[1;32m   1329\u001b[0m       \u001b[0mmessage\u001b[0m \u001b[0;34m=\u001b[0m \u001b[0mcompat\u001b[0m\u001b[0;34m.\u001b[0m\u001b[0mas_text\u001b[0m\u001b[0;34m(\u001b[0m\u001b[0me\u001b[0m\u001b[0;34m.\u001b[0m\u001b[0mmessage\u001b[0m\u001b[0;34m)\u001b[0m\u001b[0;34m\u001b[0m\u001b[0m\n",
      "\u001b[0;32m/home/thompsjj/anaconda3/lib/python3.6/site-packages/tensorflow/python/client/session.py\u001b[0m in \u001b[0;36m_run_fn\u001b[0;34m(session, feed_dict, fetch_list, target_list, options, run_metadata)\u001b[0m\n\u001b[1;32m   1304\u001b[0m           return tf_session.TF_Run(session, options,\n\u001b[1;32m   1305\u001b[0m                                    \u001b[0mfeed_dict\u001b[0m\u001b[0;34m,\u001b[0m \u001b[0mfetch_list\u001b[0m\u001b[0;34m,\u001b[0m \u001b[0mtarget_list\u001b[0m\u001b[0;34m,\u001b[0m\u001b[0;34m\u001b[0m\u001b[0m\n\u001b[0;32m-> 1306\u001b[0;31m                                    status, run_metadata)\n\u001b[0m\u001b[1;32m   1307\u001b[0m \u001b[0;34m\u001b[0m\u001b[0m\n\u001b[1;32m   1308\u001b[0m     \u001b[0;32mdef\u001b[0m \u001b[0m_prun_fn\u001b[0m\u001b[0;34m(\u001b[0m\u001b[0msession\u001b[0m\u001b[0;34m,\u001b[0m \u001b[0mhandle\u001b[0m\u001b[0;34m,\u001b[0m \u001b[0mfeed_dict\u001b[0m\u001b[0;34m,\u001b[0m \u001b[0mfetch_list\u001b[0m\u001b[0;34m)\u001b[0m\u001b[0;34m:\u001b[0m\u001b[0;34m\u001b[0m\u001b[0m\n",
      "\u001b[0;31mKeyboardInterrupt\u001b[0m: "
     ]
    }
   ],
   "source": [
    "train(1, 256)"
   ]
  },
  {
   "cell_type": "code",
   "execution_count": null,
   "metadata": {
    "collapsed": true
   },
   "outputs": [],
   "source": []
  }
 ],
 "metadata": {
  "hide_input": false,
  "kernelspec": {
   "display_name": "Python 3",
   "language": "python",
   "name": "python3"
  },
  "language_info": {
   "codemirror_mode": {
    "name": "ipython",
    "version": 3
   },
   "file_extension": ".py",
   "mimetype": "text/x-python",
   "name": "python",
   "nbconvert_exporter": "python",
   "pygments_lexer": "ipython3",
   "version": "3.6.3"
  }
 },
 "nbformat": 4,
 "nbformat_minor": 2
}
